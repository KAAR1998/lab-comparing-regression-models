{
 "cells": [
  {
   "cell_type": "code",
   "execution_count": 1,
   "id": "adfce69c-0a72-40b8-8502-883e2f9bdae6",
   "metadata": {},
   "outputs": [],
   "source": [
    "import numpy as np\n",
    "import pandas as pd \n",
    "import seaborn as sns\n",
    "import matplotlib as plt \n",
    "import matplotlib.pyplot as plt\n",
    "from sklearn.model_selection import train_test_split\n",
    "from sklearn.preprocessing import MinMaxScaler\n",
    "from sklearn.linear_model import LogisticRegression\n",
    "from sklearn.metrics import r2_score, mean_absolute_error, mean_squared_error, mean_squared_log_error, mean_squared_error"
   ]
  },
  {
   "cell_type": "code",
   "execution_count": 2,
   "id": "c4f14cd8-8c37-4c32-bf65-1150bf860a57",
   "metadata": {},
   "outputs": [],
   "source": [
    "df = pd.read_csv(\"df17.csv\")"
   ]
  },
  {
   "cell_type": "code",
   "execution_count": 3,
   "id": "438c85c0-81d3-4164-bbc2-9306f4311b09",
   "metadata": {},
   "outputs": [
    {
     "data": {
      "text/html": [
       "<div>\n",
       "<style scoped>\n",
       "    .dataframe tbody tr th:only-of-type {\n",
       "        vertical-align: middle;\n",
       "    }\n",
       "\n",
       "    .dataframe tbody tr th {\n",
       "        vertical-align: top;\n",
       "    }\n",
       "\n",
       "    .dataframe thead th {\n",
       "        text-align: right;\n",
       "    }\n",
       "</style>\n",
       "<table border=\"1\" class=\"dataframe\">\n",
       "  <thead>\n",
       "    <tr style=\"text-align: right;\">\n",
       "      <th></th>\n",
       "      <th>index</th>\n",
       "      <th>Customer Lifetime Value</th>\n",
       "      <th>Income</th>\n",
       "      <th>Monthly Premium Auto</th>\n",
       "      <th>Months Since Last Claim</th>\n",
       "      <th>Months Since Policy Inception</th>\n",
       "      <th>Number of Open Complaints</th>\n",
       "      <th>Number of Policies</th>\n",
       "      <th>Customer</th>\n",
       "      <th>State</th>\n",
       "      <th>...</th>\n",
       "      <th>Gender</th>\n",
       "      <th>Location Code</th>\n",
       "      <th>Marital Status</th>\n",
       "      <th>Policy</th>\n",
       "      <th>Renew Offer Type</th>\n",
       "      <th>Sales Channel</th>\n",
       "      <th>Vehicle Class</th>\n",
       "      <th>Vehicle Size</th>\n",
       "      <th>total_claim_amount</th>\n",
       "      <th>Total Claim Amount</th>\n",
       "    </tr>\n",
       "  </thead>\n",
       "  <tbody>\n",
       "    <tr>\n",
       "      <th>0</th>\n",
       "      <td>0</td>\n",
       "      <td>2763.519279</td>\n",
       "      <td>56274.0</td>\n",
       "      <td>69.0</td>\n",
       "      <td>32</td>\n",
       "      <td>5</td>\n",
       "      <td>0</td>\n",
       "      <td>1</td>\n",
       "      <td>BU79786</td>\n",
       "      <td>Washington</td>\n",
       "      <td>...</td>\n",
       "      <td>0</td>\n",
       "      <td>2</td>\n",
       "      <td>Married</td>\n",
       "      <td>L3</td>\n",
       "      <td>Offer1</td>\n",
       "      <td>Agent</td>\n",
       "      <td>Two-Door Car</td>\n",
       "      <td>2</td>\n",
       "      <td>384.811147</td>\n",
       "      <td>384.811147</td>\n",
       "    </tr>\n",
       "    <tr>\n",
       "      <th>1</th>\n",
       "      <td>1</td>\n",
       "      <td>6979.535903</td>\n",
       "      <td>0.0</td>\n",
       "      <td>94.0</td>\n",
       "      <td>13</td>\n",
       "      <td>42</td>\n",
       "      <td>0</td>\n",
       "      <td>8</td>\n",
       "      <td>QZ44356</td>\n",
       "      <td>Arizona</td>\n",
       "      <td>...</td>\n",
       "      <td>0</td>\n",
       "      <td>2</td>\n",
       "      <td>Single</td>\n",
       "      <td>L3</td>\n",
       "      <td>Offer3</td>\n",
       "      <td>Agent</td>\n",
       "      <td>Four-Door Car</td>\n",
       "      <td>2</td>\n",
       "      <td>1131.464935</td>\n",
       "      <td>1131.464935</td>\n",
       "    </tr>\n",
       "    <tr>\n",
       "      <th>2</th>\n",
       "      <td>2</td>\n",
       "      <td>12887.431650</td>\n",
       "      <td>48767.0</td>\n",
       "      <td>108.0</td>\n",
       "      <td>18</td>\n",
       "      <td>38</td>\n",
       "      <td>0</td>\n",
       "      <td>2</td>\n",
       "      <td>AI49188</td>\n",
       "      <td>Nevada</td>\n",
       "      <td>...</td>\n",
       "      <td>0</td>\n",
       "      <td>2</td>\n",
       "      <td>Married</td>\n",
       "      <td>L3</td>\n",
       "      <td>Offer1</td>\n",
       "      <td>Agent</td>\n",
       "      <td>Two-Door Car</td>\n",
       "      <td>2</td>\n",
       "      <td>566.472247</td>\n",
       "      <td>566.472247</td>\n",
       "    </tr>\n",
       "    <tr>\n",
       "      <th>3</th>\n",
       "      <td>3</td>\n",
       "      <td>7645.861827</td>\n",
       "      <td>0.0</td>\n",
       "      <td>106.0</td>\n",
       "      <td>18</td>\n",
       "      <td>65</td>\n",
       "      <td>0</td>\n",
       "      <td>7</td>\n",
       "      <td>WW63253</td>\n",
       "      <td>California</td>\n",
       "      <td>...</td>\n",
       "      <td>1</td>\n",
       "      <td>2</td>\n",
       "      <td>Married</td>\n",
       "      <td>L3</td>\n",
       "      <td>Offer1</td>\n",
       "      <td>Call Center</td>\n",
       "      <td>SUV</td>\n",
       "      <td>2</td>\n",
       "      <td>529.881344</td>\n",
       "      <td>529.881344</td>\n",
       "    </tr>\n",
       "    <tr>\n",
       "      <th>4</th>\n",
       "      <td>4</td>\n",
       "      <td>2813.692575</td>\n",
       "      <td>43836.0</td>\n",
       "      <td>73.0</td>\n",
       "      <td>12</td>\n",
       "      <td>44</td>\n",
       "      <td>0</td>\n",
       "      <td>1</td>\n",
       "      <td>HB64268</td>\n",
       "      <td>Washington</td>\n",
       "      <td>...</td>\n",
       "      <td>1</td>\n",
       "      <td>1</td>\n",
       "      <td>Single</td>\n",
       "      <td>L3</td>\n",
       "      <td>Offer1</td>\n",
       "      <td>Agent</td>\n",
       "      <td>Four-Door Car</td>\n",
       "      <td>2</td>\n",
       "      <td>138.130879</td>\n",
       "      <td>138.130879</td>\n",
       "    </tr>\n",
       "    <tr>\n",
       "      <th>...</th>\n",
       "      <td>...</td>\n",
       "      <td>...</td>\n",
       "      <td>...</td>\n",
       "      <td>...</td>\n",
       "      <td>...</td>\n",
       "      <td>...</td>\n",
       "      <td>...</td>\n",
       "      <td>...</td>\n",
       "      <td>...</td>\n",
       "      <td>...</td>\n",
       "      <td>...</td>\n",
       "      <td>...</td>\n",
       "      <td>...</td>\n",
       "      <td>...</td>\n",
       "      <td>...</td>\n",
       "      <td>...</td>\n",
       "      <td>...</td>\n",
       "      <td>...</td>\n",
       "      <td>...</td>\n",
       "      <td>...</td>\n",
       "      <td>...</td>\n",
       "    </tr>\n",
       "    <tr>\n",
       "      <th>8570</th>\n",
       "      <td>9129</td>\n",
       "      <td>23405.987980</td>\n",
       "      <td>71941.0</td>\n",
       "      <td>73.0</td>\n",
       "      <td>18</td>\n",
       "      <td>89</td>\n",
       "      <td>0</td>\n",
       "      <td>2</td>\n",
       "      <td>LA72316</td>\n",
       "      <td>California</td>\n",
       "      <td>...</td>\n",
       "      <td>1</td>\n",
       "      <td>3</td>\n",
       "      <td>Married</td>\n",
       "      <td>L3</td>\n",
       "      <td>Offer2</td>\n",
       "      <td>Web</td>\n",
       "      <td>Four-Door Car</td>\n",
       "      <td>2</td>\n",
       "      <td>198.234764</td>\n",
       "      <td>198.234764</td>\n",
       "    </tr>\n",
       "    <tr>\n",
       "      <th>8571</th>\n",
       "      <td>9130</td>\n",
       "      <td>3096.511217</td>\n",
       "      <td>21604.0</td>\n",
       "      <td>79.0</td>\n",
       "      <td>14</td>\n",
       "      <td>28</td>\n",
       "      <td>0</td>\n",
       "      <td>1</td>\n",
       "      <td>PK87824</td>\n",
       "      <td>California</td>\n",
       "      <td>...</td>\n",
       "      <td>0</td>\n",
       "      <td>2</td>\n",
       "      <td>Divorced</td>\n",
       "      <td>L3</td>\n",
       "      <td>Offer1</td>\n",
       "      <td>Branch</td>\n",
       "      <td>Four-Door Car</td>\n",
       "      <td>2</td>\n",
       "      <td>379.200000</td>\n",
       "      <td>379.200000</td>\n",
       "    </tr>\n",
       "    <tr>\n",
       "      <th>8572</th>\n",
       "      <td>9131</td>\n",
       "      <td>8163.890428</td>\n",
       "      <td>0.0</td>\n",
       "      <td>85.0</td>\n",
       "      <td>9</td>\n",
       "      <td>37</td>\n",
       "      <td>3</td>\n",
       "      <td>2</td>\n",
       "      <td>TD14365</td>\n",
       "      <td>California</td>\n",
       "      <td>...</td>\n",
       "      <td>1</td>\n",
       "      <td>2</td>\n",
       "      <td>Single</td>\n",
       "      <td>L3</td>\n",
       "      <td>Offer1</td>\n",
       "      <td>Branch</td>\n",
       "      <td>Four-Door Car</td>\n",
       "      <td>2</td>\n",
       "      <td>790.784983</td>\n",
       "      <td>790.784983</td>\n",
       "    </tr>\n",
       "    <tr>\n",
       "      <th>8573</th>\n",
       "      <td>9132</td>\n",
       "      <td>7524.442436</td>\n",
       "      <td>21941.0</td>\n",
       "      <td>96.0</td>\n",
       "      <td>34</td>\n",
       "      <td>3</td>\n",
       "      <td>0</td>\n",
       "      <td>3</td>\n",
       "      <td>UP19263</td>\n",
       "      <td>California</td>\n",
       "      <td>...</td>\n",
       "      <td>1</td>\n",
       "      <td>2</td>\n",
       "      <td>Married</td>\n",
       "      <td>L3</td>\n",
       "      <td>Offer3</td>\n",
       "      <td>Branch</td>\n",
       "      <td>Four-Door Car</td>\n",
       "      <td>3</td>\n",
       "      <td>691.200000</td>\n",
       "      <td>691.200000</td>\n",
       "    </tr>\n",
       "    <tr>\n",
       "      <th>8574</th>\n",
       "      <td>9133</td>\n",
       "      <td>2611.836866</td>\n",
       "      <td>0.0</td>\n",
       "      <td>77.0</td>\n",
       "      <td>3</td>\n",
       "      <td>90</td>\n",
       "      <td>0</td>\n",
       "      <td>1</td>\n",
       "      <td>Y167826</td>\n",
       "      <td>California</td>\n",
       "      <td>...</td>\n",
       "      <td>1</td>\n",
       "      <td>2</td>\n",
       "      <td>Single</td>\n",
       "      <td>L3</td>\n",
       "      <td>Offer4</td>\n",
       "      <td>Call Center</td>\n",
       "      <td>Two-Door Car</td>\n",
       "      <td>2</td>\n",
       "      <td>369.600000</td>\n",
       "      <td>369.600000</td>\n",
       "    </tr>\n",
       "  </tbody>\n",
       "</table>\n",
       "<p>8575 rows × 25 columns</p>\n",
       "</div>"
      ],
      "text/plain": [
       "      index  Customer Lifetime Value   Income  Monthly Premium Auto  \\\n",
       "0         0              2763.519279  56274.0                  69.0   \n",
       "1         1              6979.535903      0.0                  94.0   \n",
       "2         2             12887.431650  48767.0                 108.0   \n",
       "3         3              7645.861827      0.0                 106.0   \n",
       "4         4              2813.692575  43836.0                  73.0   \n",
       "...     ...                      ...      ...                   ...   \n",
       "8570   9129             23405.987980  71941.0                  73.0   \n",
       "8571   9130              3096.511217  21604.0                  79.0   \n",
       "8572   9131              8163.890428      0.0                  85.0   \n",
       "8573   9132              7524.442436  21941.0                  96.0   \n",
       "8574   9133              2611.836866      0.0                  77.0   \n",
       "\n",
       "      Months Since Last Claim  Months Since Policy Inception  \\\n",
       "0                          32                              5   \n",
       "1                          13                             42   \n",
       "2                          18                             38   \n",
       "3                          18                             65   \n",
       "4                          12                             44   \n",
       "...                       ...                            ...   \n",
       "8570                       18                             89   \n",
       "8571                       14                             28   \n",
       "8572                        9                             37   \n",
       "8573                       34                              3   \n",
       "8574                        3                             90   \n",
       "\n",
       "      Number of Open Complaints  Number of Policies Customer       State  ...  \\\n",
       "0                             0                   1  BU79786  Washington  ...   \n",
       "1                             0                   8  QZ44356     Arizona  ...   \n",
       "2                             0                   2  AI49188      Nevada  ...   \n",
       "3                             0                   7  WW63253  California  ...   \n",
       "4                             0                   1  HB64268  Washington  ...   \n",
       "...                         ...                 ...      ...         ...  ...   \n",
       "8570                          0                   2  LA72316  California  ...   \n",
       "8571                          0                   1  PK87824  California  ...   \n",
       "8572                          3                   2  TD14365  California  ...   \n",
       "8573                          0                   3  UP19263  California  ...   \n",
       "8574                          0                   1  Y167826  California  ...   \n",
       "\n",
       "      Gender  Location Code Marital Status Policy  Renew Offer Type  \\\n",
       "0          0              2        Married     L3            Offer1   \n",
       "1          0              2         Single     L3            Offer3   \n",
       "2          0              2        Married     L3            Offer1   \n",
       "3          1              2        Married     L3            Offer1   \n",
       "4          1              1         Single     L3            Offer1   \n",
       "...      ...            ...            ...    ...               ...   \n",
       "8570       1              3        Married     L3            Offer2   \n",
       "8571       0              2       Divorced     L3            Offer1   \n",
       "8572       1              2         Single     L3            Offer1   \n",
       "8573       1              2        Married     L3            Offer3   \n",
       "8574       1              2         Single     L3            Offer4   \n",
       "\n",
       "      Sales Channel  Vehicle Class Vehicle Size total_claim_amount  \\\n",
       "0             Agent   Two-Door Car            2         384.811147   \n",
       "1             Agent  Four-Door Car            2        1131.464935   \n",
       "2             Agent   Two-Door Car            2         566.472247   \n",
       "3       Call Center            SUV            2         529.881344   \n",
       "4             Agent  Four-Door Car            2         138.130879   \n",
       "...             ...            ...          ...                ...   \n",
       "8570            Web  Four-Door Car            2         198.234764   \n",
       "8571         Branch  Four-Door Car            2         379.200000   \n",
       "8572         Branch  Four-Door Car            2         790.784983   \n",
       "8573         Branch  Four-Door Car            3         691.200000   \n",
       "8574    Call Center   Two-Door Car            2         369.600000   \n",
       "\n",
       "     Total Claim Amount  \n",
       "0            384.811147  \n",
       "1           1131.464935  \n",
       "2            566.472247  \n",
       "3            529.881344  \n",
       "4            138.130879  \n",
       "...                 ...  \n",
       "8570         198.234764  \n",
       "8571         379.200000  \n",
       "8572         790.784983  \n",
       "8573         691.200000  \n",
       "8574         369.600000  \n",
       "\n",
       "[8575 rows x 25 columns]"
      ]
     },
     "metadata": {},
     "output_type": "display_data"
    }
   ],
   "source": [
    "display(df)"
   ]
  },
  {
   "cell_type": "code",
   "execution_count": null,
   "id": "b7146e2b-2f43-457d-85fe-3b8b5177f039",
   "metadata": {},
   "outputs": [],
   "source": [
    "#1. Define X and y"
   ]
  },
  {
   "cell_type": "code",
   "execution_count": 4,
   "id": "7cf66344-243d-4f34-be75-c8aef82b0704",
   "metadata": {},
   "outputs": [],
   "source": [
    "X = df.drop(\"Total Claim Amount\", axis = 1) \n",
    "y = df[\"Total Claim Amount\"] "
   ]
  },
  {
   "cell_type": "code",
   "execution_count": null,
   "id": "a1aa2ff0-8805-4f5f-9785-f70a99ee1bb5",
   "metadata": {},
   "outputs": [],
   "source": [
    "#2. Import sklearn train_test_split and separate the data. Set test_size=0.30 and random_state=31"
   ]
  },
  {
   "cell_type": "code",
   "execution_count": 5,
   "id": "1888aeeb-cb94-41b2-bb16-bc414e91ffe1",
   "metadata": {},
   "outputs": [],
   "source": [
    "X_train, X_test, y_train, y_test = train_test_split(X, y, test_size=0.30, random_state=31)"
   ]
  },
  {
   "cell_type": "code",
   "execution_count": null,
   "id": "b61afbf7-69a3-4718-b9af-4d3e5ddf48f3",
   "metadata": {},
   "outputs": [],
   "source": [
    "#3. Separate X_train and X_test into numerical and categorical (X_train_cat , X_train_num , X_test_cat , X_test_num)"
   ]
  },
  {
   "cell_type": "code",
   "execution_count": 6,
   "id": "fff4ad2a-4497-46a2-8267-d42bcd45425e",
   "metadata": {},
   "outputs": [],
   "source": [
    "X_train_num = X_train.select_dtypes(include=np.number)\n",
    "X_test_num = X_test.select_dtypes(include=np.number) \n",
    "\n",
    "X_train_cat = X_train.select_dtypes('object')\n",
    "X_test_cat = X_test.select_dtypes('object')"
   ]
  },
  {
   "cell_type": "code",
   "execution_count": null,
   "id": "74d2cb75-6544-49b2-893b-d422c32e9a51",
   "metadata": {},
   "outputs": [],
   "source": [
    "#4. Encode the categorical variables X_train_cat and X_test_cat using the OneHotEncoder setup in the previous lab. \n",
    "# Remember to use .toarray() after .transform() to endup with a numpy array. Next, cast the resulting numpy arrays into pandas DataFrames. \n",
    "# Make sure that the column names of the new dataframes are correctly setup using encoder.get_feature_names_out() and the same indexes of X_train_cat and X_test_cat"
   ]
  },
  {
   "cell_type": "code",
   "execution_count": 9,
   "id": "d8d4f2cb-2caa-4639-8201-5dc73bc5dcd2",
   "metadata": {},
   "outputs": [
    {
     "data": {
      "text/plain": [
       "(6002, 9)"
      ]
     },
     "execution_count": 9,
     "metadata": {},
     "output_type": "execute_result"
    }
   ],
   "source": [
    "X_train_cat.shape"
   ]
  },
  {
   "cell_type": "code",
   "execution_count": 10,
   "id": "b22447d1-4bde-4304-a32e-a9acbee1b5d6",
   "metadata": {},
   "outputs": [
    {
     "data": {
      "text/plain": [
       "(2573, 9)"
      ]
     },
     "execution_count": 10,
     "metadata": {},
     "output_type": "execute_result"
    }
   ],
   "source": [
    "X_test_cat.shape"
   ]
  },
  {
   "cell_type": "code",
   "execution_count": 13,
   "id": "acd1e64f-f523-4024-a254-53b436d1ae08",
   "metadata": {},
   "outputs": [
    {
     "ename": "ValueError",
     "evalue": "input_features is not equal to feature_names_in_",
     "output_type": "error",
     "traceback": [
      "\u001b[0;31m---------------------------------------------------------------------------\u001b[0m",
      "\u001b[0;31mValueError\u001b[0m                                Traceback (most recent call last)",
      "Cell \u001b[0;32mIn[13], line 5\u001b[0m\n\u001b[1;32m      1\u001b[0m \u001b[38;5;28;01mfrom\u001b[39;00m \u001b[38;5;21;01msklearn\u001b[39;00m\u001b[38;5;21;01m.\u001b[39;00m\u001b[38;5;21;01mpreprocessing\u001b[39;00m \u001b[38;5;28;01mimport\u001b[39;00m OneHotEncoder\n\u001b[1;32m      3\u001b[0m encoder \u001b[38;5;241m=\u001b[39m OneHotEncoder(drop\u001b[38;5;241m=\u001b[39m\u001b[38;5;124m'\u001b[39m\u001b[38;5;124mfirst\u001b[39m\u001b[38;5;124m'\u001b[39m)\n\u001b[0;32m----> 5\u001b[0m X_train_cat_encoded \u001b[38;5;241m=\u001b[39m pd\u001b[38;5;241m.\u001b[39mDataFrame(encoder\u001b[38;5;241m.\u001b[39mfit_transform(X_train_cat)\u001b[38;5;241m.\u001b[39mtoarray(), columns\u001b[38;5;241m=\u001b[39m\u001b[43mencoder\u001b[49m\u001b[38;5;241;43m.\u001b[39;49m\u001b[43mget_feature_names_out\u001b[49m\u001b[43m(\u001b[49m\u001b[43mX_train_cat\u001b[49m\u001b[43m)\u001b[49m)\n\u001b[1;32m      6\u001b[0m X_test_cat_encoded \u001b[38;5;241m=\u001b[39m pd\u001b[38;5;241m.\u001b[39mDataFrame(encoder\u001b[38;5;241m.\u001b[39mtransform(X_test_cat)\u001b[38;5;241m.\u001b[39mtoarray(), columns\u001b[38;5;241m=\u001b[39mencoder\u001b[38;5;241m.\u001b[39mget_feature_names_out(X_test_cat))\n\u001b[1;32m      8\u001b[0m X_train_cat_encoded\u001b[38;5;241m.\u001b[39mindex \u001b[38;5;241m=\u001b[39m X_train_cat\u001b[38;5;241m.\u001b[39mindex\n",
      "File \u001b[0;32m~/opt/anaconda3/lib/python3.9/site-packages/sklearn/preprocessing/_encoders.py:1057\u001b[0m, in \u001b[0;36mOneHotEncoder.get_feature_names_out\u001b[0;34m(self, input_features)\u001b[0m\n\u001b[1;32m   1037\u001b[0m \u001b[38;5;250m\u001b[39m\u001b[38;5;124;03m\"\"\"Get output feature names for transformation.\u001b[39;00m\n\u001b[1;32m   1038\u001b[0m \n\u001b[1;32m   1039\u001b[0m \u001b[38;5;124;03mParameters\u001b[39;00m\n\u001b[0;32m   (...)\u001b[0m\n\u001b[1;32m   1054\u001b[0m \u001b[38;5;124;03m    Transformed feature names.\u001b[39;00m\n\u001b[1;32m   1055\u001b[0m \u001b[38;5;124;03m\"\"\"\u001b[39;00m\n\u001b[1;32m   1056\u001b[0m check_is_fitted(\u001b[38;5;28mself\u001b[39m)\n\u001b[0;32m-> 1057\u001b[0m input_features \u001b[38;5;241m=\u001b[39m \u001b[43m_check_feature_names_in\u001b[49m\u001b[43m(\u001b[49m\u001b[38;5;28;43mself\u001b[39;49m\u001b[43m,\u001b[49m\u001b[43m \u001b[49m\u001b[43minput_features\u001b[49m\u001b[43m)\u001b[49m\n\u001b[1;32m   1058\u001b[0m cats \u001b[38;5;241m=\u001b[39m [\n\u001b[1;32m   1059\u001b[0m     \u001b[38;5;28mself\u001b[39m\u001b[38;5;241m.\u001b[39m_compute_transformed_categories(i)\n\u001b[1;32m   1060\u001b[0m     \u001b[38;5;28;01mfor\u001b[39;00m i, _ \u001b[38;5;129;01min\u001b[39;00m \u001b[38;5;28menumerate\u001b[39m(\u001b[38;5;28mself\u001b[39m\u001b[38;5;241m.\u001b[39mcategories_)\n\u001b[1;32m   1061\u001b[0m ]\n\u001b[1;32m   1063\u001b[0m feature_names \u001b[38;5;241m=\u001b[39m []\n",
      "File \u001b[0;32m~/opt/anaconda3/lib/python3.9/site-packages/sklearn/utils/validation.py:1954\u001b[0m, in \u001b[0;36m_check_feature_names_in\u001b[0;34m(estimator, input_features, generate_names)\u001b[0m\n\u001b[1;32m   1950\u001b[0m input_features \u001b[38;5;241m=\u001b[39m np\u001b[38;5;241m.\u001b[39masarray(input_features, dtype\u001b[38;5;241m=\u001b[39m\u001b[38;5;28mobject\u001b[39m)\n\u001b[1;32m   1951\u001b[0m \u001b[38;5;28;01mif\u001b[39;00m feature_names_in_ \u001b[38;5;129;01mis\u001b[39;00m \u001b[38;5;129;01mnot\u001b[39;00m \u001b[38;5;28;01mNone\u001b[39;00m \u001b[38;5;129;01mand\u001b[39;00m \u001b[38;5;129;01mnot\u001b[39;00m np\u001b[38;5;241m.\u001b[39marray_equal(\n\u001b[1;32m   1952\u001b[0m     feature_names_in_, input_features\n\u001b[1;32m   1953\u001b[0m ):\n\u001b[0;32m-> 1954\u001b[0m     \u001b[38;5;28;01mraise\u001b[39;00m \u001b[38;5;167;01mValueError\u001b[39;00m(\u001b[38;5;124m\"\u001b[39m\u001b[38;5;124minput_features is not equal to feature_names_in_\u001b[39m\u001b[38;5;124m\"\u001b[39m)\n\u001b[1;32m   1956\u001b[0m \u001b[38;5;28;01mif\u001b[39;00m n_features_in_ \u001b[38;5;129;01mis\u001b[39;00m \u001b[38;5;129;01mnot\u001b[39;00m \u001b[38;5;28;01mNone\u001b[39;00m \u001b[38;5;129;01mand\u001b[39;00m \u001b[38;5;28mlen\u001b[39m(input_features) \u001b[38;5;241m!=\u001b[39m n_features_in_:\n\u001b[1;32m   1957\u001b[0m     \u001b[38;5;28;01mraise\u001b[39;00m \u001b[38;5;167;01mValueError\u001b[39;00m(\n\u001b[1;32m   1958\u001b[0m         \u001b[38;5;124m\"\u001b[39m\u001b[38;5;124minput_features should have length equal to number of \u001b[39m\u001b[38;5;124m\"\u001b[39m\n\u001b[1;32m   1959\u001b[0m         \u001b[38;5;124mf\u001b[39m\u001b[38;5;124m\"\u001b[39m\u001b[38;5;124mfeatures (\u001b[39m\u001b[38;5;132;01m{\u001b[39;00mn_features_in_\u001b[38;5;132;01m}\u001b[39;00m\u001b[38;5;124m), got \u001b[39m\u001b[38;5;132;01m{\u001b[39;00m\u001b[38;5;28mlen\u001b[39m(input_features)\u001b[38;5;132;01m}\u001b[39;00m\u001b[38;5;124m\"\u001b[39m\n\u001b[1;32m   1960\u001b[0m     )\n",
      "\u001b[0;31mValueError\u001b[0m: input_features is not equal to feature_names_in_"
     ]
    }
   ],
   "source": [
    "from sklearn.preprocessing import OneHotEncoder\n",
    "\n",
    "encoder = OneHotEncoder(drop='first')\n",
    "\n",
    "X_train_cat_encoded = pd.DataFrame(encoder.fit_transform(X_train_cat).toarray(), columns=encoder.get_feature_names_out(X_train_cat))\n",
    "X_test_cat_encoded = pd.DataFrame(encoder.transform(X_test_cat).toarray(), columns=encoder.get_feature_names_out(X_test_cat))\n",
    "\n",
    "X_train_cat_encoded.index = X_train_cat.index\n",
    "X_test_cat_encoded.index = X_test_cat.index"
   ]
  },
  {
   "cell_type": "code",
   "execution_count": null,
   "id": "4ffa4776-90b6-4e2a-aa75-7e3c08d159a5",
   "metadata": {},
   "outputs": [],
   "source": [
    "#5. Use X_train_num to fit a power transformer. Transform BOTH X_train_num and X_test_num. \n",
    "# Cast the resulting numpy arrays as pandas dataframes. Make sure to set the correct columns names and to use the same indexes of X_train_num and X_test_num. \n",
    "# Name the final resulting dataframes as: X_train_num_transformed_df and X_test_num_transformed_df"
   ]
  },
  {
   "cell_type": "code",
   "execution_count": 23,
   "id": "dd20fe5f-8260-4424-824f-8bb8b6ca22d1",
   "metadata": {},
   "outputs": [],
   "source": [
    "#Found variations of the below online to make X_train_num and X_test_num to make them the correct shape as I was getting an error on the PowerTransformer \n",
    "if X_train_num.shape[0] != X_train_num.size:\n",
    "    X_train_num_1 = np.array(X_train_num).reshape(-1, X_train_num.shape[1])\n",
    "if X_test_num.shape[0] != X_test_num.size:\n",
    "    X_test_num_1 = np.array(X_test_num).reshape(-1, X_test_num.shape[1])"
   ]
  },
  {
   "cell_type": "code",
   "execution_count": 24,
   "id": "1328082b-6133-4e49-9142-ff4b3a4609f4",
   "metadata": {},
   "outputs": [
    {
     "ename": "AttributeError",
     "evalue": "'numpy.ndarray' object has no attribute 'columns'",
     "output_type": "error",
     "traceback": [
      "\u001b[0;31m---------------------------------------------------------------------------\u001b[0m",
      "\u001b[0;31mAttributeError\u001b[0m                            Traceback (most recent call last)",
      "Cell \u001b[0;32mIn[24], line 8\u001b[0m\n\u001b[1;32m      5\u001b[0m X_train_num_transformed \u001b[38;5;241m=\u001b[39m pt\u001b[38;5;241m.\u001b[39mfit_transform(X_train_num_1) \n\u001b[1;32m      6\u001b[0m X_test_num_transformed \u001b[38;5;241m=\u001b[39m pt\u001b[38;5;241m.\u001b[39mfit_transform(X_test_num_1)\n\u001b[0;32m----> 8\u001b[0m X_train_num_transformed_df \u001b[38;5;241m=\u001b[39m pd\u001b[38;5;241m.\u001b[39mDataFrame(X_train_num_transformed, columns\u001b[38;5;241m=\u001b[39m\u001b[43mX_train_num\u001b[49m\u001b[38;5;241;43m.\u001b[39;49m\u001b[43mcolumns\u001b[49m, index\u001b[38;5;241m=\u001b[39mX_train_num\u001b[38;5;241m.\u001b[39mindex)\n\u001b[1;32m      9\u001b[0m X_test_num_transformed_df \u001b[38;5;241m=\u001b[39m pd\u001b[38;5;241m.\u001b[39mDataFrame(X_test_num_transformed, columns\u001b[38;5;241m=\u001b[39mX_test_num\u001b[38;5;241m.\u001b[39mcolumns, index\u001b[38;5;241m=\u001b[39mX_train_num\u001b[38;5;241m.\u001b[39mindex)\n",
      "\u001b[0;31mAttributeError\u001b[0m: 'numpy.ndarray' object has no attribute 'columns'"
     ]
    }
   ],
   "source": [
    "from sklearn.preprocessing import PowerTransformer \n",
    "\n",
    "pt = PowerTransformer()\n",
    "\n",
    "X_train_num_transformed = pt.fit_transform(X_train_num_1) \n",
    "X_test_num_transformed = pt.fit_transform(X_test_num_1)\n",
    "\n",
    "X_train_num_transformed_df = pd.DataFrame(X_train_num_transformed, columns=X_train_num.columns, index=X_train_num.index)\n",
    "X_test_num_transformed_df = pd.DataFrame(X_test_num_transformed, columns=X_test_num.columns, index=X_train_num.index)"
   ]
  },
  {
   "cell_type": "code",
   "execution_count": null,
   "id": "b5ed6105-2e40-4a47-bdc0-77baa8cda3a8",
   "metadata": {},
   "outputs": [],
   "source": [
    "#6. Concat X_train_num_transformed_df and X_train_cat_encoded_df into X_train_new and X_test_num_transformed_df and X_test_cat_encoded_df into X_test_new"
   ]
  },
  {
   "cell_type": "code",
   "execution_count": null,
   "id": "33e6c2d5-50bd-489e-bad8-9c5be124a60c",
   "metadata": {},
   "outputs": [],
   "source": [
    "X_train_new = pd.concat([X_train_num_transformed_df, X_train_cat_encoded_df, axis=1])\n",
    "X_test_new = pd.concat([X_test_cat_transformed_df, X_test_cat_encoded_df, axis=1])"
   ]
  },
  {
   "cell_type": "code",
   "execution_count": null,
   "id": "cbb2ab88-b468-482c-84ef-da0ac708fbd5",
   "metadata": {},
   "outputs": [],
   "source": [
    "#7. Fit a MinMax scaler using X_train_new and transform X_train_new and X_test_new. \n",
    "# Create new pandas dataframes from the resulting numpy arrays. Remember to set the correct columns names and indexes. \n",
    "# Name the resulting dataframes as: X_train_new_scaled_df and X_test_new_scaled_df"
   ]
  },
  {
   "cell_type": "code",
   "execution_count": 25,
   "id": "b77cbfd9-a0b0-4e23-b699-c08ffaab8f96",
   "metadata": {},
   "outputs": [
    {
     "ename": "NameError",
     "evalue": "name 'X_train_new' is not defined",
     "output_type": "error",
     "traceback": [
      "\u001b[0;31m---------------------------------------------------------------------------\u001b[0m",
      "\u001b[0;31mNameError\u001b[0m                                 Traceback (most recent call last)",
      "Cell \u001b[0;32mIn[25], line 5\u001b[0m\n\u001b[1;32m      1\u001b[0m \u001b[38;5;28;01mfrom\u001b[39;00m \u001b[38;5;21;01msklearn\u001b[39;00m\u001b[38;5;21;01m.\u001b[39;00m\u001b[38;5;21;01mpreprocessing\u001b[39;00m \u001b[38;5;28;01mimport\u001b[39;00m MinMaxScaler \n\u001b[1;32m      3\u001b[0m scaler \u001b[38;5;241m=\u001b[39m MinMaxScaler()\n\u001b[0;32m----> 5\u001b[0m X_train_new_scaled \u001b[38;5;241m=\u001b[39m scaler\u001b[38;5;241m.\u001b[39mfit_transform(\u001b[43mX_train_new\u001b[49m)\n\u001b[1;32m      6\u001b[0m X_test_new_scaled \u001b[38;5;241m=\u001b[39m scaler\u001b[38;5;241m.\u001b[39mtransform(X_test_new)\n\u001b[1;32m      8\u001b[0m X_train_new_scaled_df \u001b[38;5;241m=\u001b[39m pd\u001b[38;5;241m.\u001b[39mDataFrame(X_train_new_scaled, columns\u001b[38;5;241m=\u001b[39mX_train_new\u001b[38;5;241m.\u001b[39mcolumns, index\u001b[38;5;241m=\u001b[39mX_train_new\u001b[38;5;241m.\u001b[39mindex)\n",
      "\u001b[0;31mNameError\u001b[0m: name 'X_train_new' is not defined"
     ]
    }
   ],
   "source": [
    "from sklearn.preprocessing import MinMaxScaler \n",
    "\n",
    "scaler = MinMaxScaler()\n",
    "\n",
    "X_train_new_scaled = scaler.fit_transform(X_train_new)\n",
    "X_test_new_scaled = scaler.transform(X_test_new)\n",
    "\n",
    "X_train_new_scaled_df = pd.DataFrame(X_train_new_scaled, columns=X_train_new.columns, index=X_train_new.index)\n",
    "X_test_new_scaled_df = pd.DataFrame(X_test_new_scaled, columns=X_test_new.columns, index=X_test_new.index)"
   ]
  },
  {
   "cell_type": "code",
   "execution_count": null,
   "id": "391f3ced-d22c-4d56-898c-5e6b144df730",
   "metadata": {},
   "outputs": [],
   "source": [
    "#8. Train a simple linear regression model using X_train_new_scaled_df, and get the predictions for the train and test sets"
   ]
  },
  {
   "cell_type": "code",
   "execution_count": null,
   "id": "70dc732b-6f47-40b4-a454-d0d051e1dc7d",
   "metadata": {},
   "outputs": [],
   "source": [
    "lr = LinearRegression()\n",
    "lr.fit(X_train_new_scaled_df, y_train)\n",
    "\n",
    "y_train_pred = reg.predict(X_train_new_scaled_df)\n",
    "y_test_pred = reg.predict(X_test_new_scaled_df)"
   ]
  },
  {
   "cell_type": "code",
   "execution_count": null,
   "id": "d051172c-075c-4783-a685-84cf49eb1abf",
   "metadata": {},
   "outputs": [],
   "source": [
    "#9. Create a function that given a model prediction and real values returns a pandas dataframe with the following table "
   ]
  },
  {
   "cell_type": "code",
   "execution_count": null,
   "id": "5b648abd-1aa3-4c96-8544-bddc3afa4c9d",
   "metadata": {},
   "outputs": [],
   "source": [
    "def error_metrics(y_train, y_test): \n",
    "    mae = mean_absolute_error(y_train, y_test)\n",
    "    mse = mean_squared_error(y_train, y_test)\n",
    "    rmse = np.sqrt(mse)\n",
    "    mape = np.mean(np.abs(y_train - y_test) / y_train) * 100\n",
    "    r2 = r2_score(y_train, y_test) \n",
    "    metrics = {'Mean Absolute Error': mae, 'Mean Squared Error': mse, 'Root Mean Squared Error': rmse, 'Mean Absolute Percentage Error': mape, 'R2': r2}\n",
    "    \n",
    "    return pd.DataFrame(list(metrics), columns = ['Mean Absolute Error', 'Mean Squared Error', 'Root Mean Squared Error', 'Mean Absolute Percentage Error', 'R2'])"
   ]
  },
  {
   "cell_type": "code",
   "execution_count": null,
   "id": "76d749ab-cb77-4ddd-a7cc-302da79e35db",
   "metadata": {},
   "outputs": [],
   "source": [
    "#10. Evaluate the linear model predictions using the previous function on the TRAIN and TEST sets"
   ]
  },
  {
   "cell_type": "code",
   "execution_count": null,
   "id": "1e8b25b4-5c27-4671-a873-8baa1d860980",
   "metadata": {},
   "outputs": [],
   "source": []
  },
  {
   "cell_type": "code",
   "execution_count": null,
   "id": "abdc062c-69cc-42f3-80a0-42e89650fa22",
   "metadata": {},
   "outputs": [],
   "source": [
    "#11. Now define a function that takes as an input: list of models, X_train and y_train to train several models (with default values) so we can train a lot of them without repeating code. \n",
    "# The function must return the list of trained models."
   ]
  },
  {
   "cell_type": "code",
   "execution_count": null,
   "id": "b49a4b72-3e91-4798-bc5b-b839cb34d52b",
   "metadata": {},
   "outputs": [],
   "source": [
    "def train_models(models, X_train, y_train): \n",
    "    trained_models = []\n",
    "    for model in models: \n",
    "        model.fit(X_train, y_train) \n",
    "        trained_models.append(model)\n",
    "    return trained_models "
   ]
  },
  {
   "cell_type": "code",
   "execution_count": null,
   "id": "a367ee9b-31a0-4ee3-a146-d6c2528c0956",
   "metadata": {},
   "outputs": [],
   "source": [
    "#12. Use the function to train the following models (with default settings): LinearRegressor, KNeighborsRegressor, MLPRegressor"
   ]
  },
  {
   "cell_type": "code",
   "execution_count": null,
   "id": "7c788783-c650-41fc-885a-a7c1a99b6e0b",
   "metadata": {},
   "outputs": [],
   "source": [
    "from sklearn.neighbors import KNeighborsRegreessor \n",
    "from sklearn.neural_network import MLPRegressor \n",
    "\n",
    "models = [LinearRegression(), KNeighborsRegressor(), MLPRegressor()]\n",
    "trained_models = train_models(models, X_train, y_train)"
   ]
  },
  {
   "cell_type": "code",
   "execution_count": null,
   "id": "7a1ce9d8-84ae-44e1-93f4-e149f1e9d110",
   "metadata": {},
   "outputs": [],
   "source": [
    "#15. Evaluate the models with the function created earlier in the TRAIN and TEST sets. Which model performs best with the default options?"
   ]
  }
 ],
 "metadata": {
  "kernelspec": {
   "display_name": "Python 3 (ipykernel)",
   "language": "python",
   "name": "python3"
  },
  "language_info": {
   "codemirror_mode": {
    "name": "ipython",
    "version": 3
   },
   "file_extension": ".py",
   "mimetype": "text/x-python",
   "name": "python",
   "nbconvert_exporter": "python",
   "pygments_lexer": "ipython3",
   "version": "3.9.15"
  }
 },
 "nbformat": 4,
 "nbformat_minor": 5
}
